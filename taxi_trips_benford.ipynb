{
 "cells": [
  {
   "cell_type": "markdown",
   "metadata": {},
   "source": [
    "# On Benford's Law and NYC Taxi Trip Durations"
   ]
  },
  {
   "cell_type": "markdown",
   "metadata": {},
   "source": [
    "In this notebook, we will demonstrate how [Benford's Law](https://en.wikipedia.org/wiki/Benford%27s_law) is reflected in the first digit of time durations of [NYC taxi trips](https://www.kaggle.com/c/nyc-taxi-trip-duration/data).\n",
    "\n",
    "Last night, I woke up at 2AM and could not get back to sleep and started TV surfing and stublled upon Netflix [Connected, the Digits eposide](https://www.netflix.com/title/81031737). The reporter was talking about the usage of Benford's law. As I was watching it, I was constantly saying \"No Way!\".  At the end of the episode, I looked up the [law](https://en.wikipedia.org/wiki/Benford%27s_lawhttps://en.wikipedia.org/wiki/Benford%27s_law) (oh...and never went back to sleep that night due to the excitement :-) and went about replicating the curve with some data to \"see\" the curve.\n",
    "\n",
    "Though the law can be applied to a \"small\" set, the more data you have, the better. That is why I used my fav dataset (NYC Taxi Data) for BigData analysis. And, a 1 through 9, as a first digit in the data, has to have a very good likelihood of occurance.  For example, latitude and longitude values in a restricted area like NYC are NOT good candicate, as 7 and 4 are the only values (see below the extent values).  However, a trip duration value is a GREAT candidate.\n",
    "\n",
    "So...this notebook uses [Apache Spark](https://spark.apache.org/) to prep the data, in such that we can \"see\" a Benford curve in the processed output."
   ]
  },
  {
   "cell_type": "code",
   "execution_count": 1,
   "metadata": {},
   "outputs": [],
   "source": [
    "import os\n",
    "import numpy as np\n",
    "import pandas as pd\n",
    "import seaborn as sms\n",
    "import matplotlib.pyplot as plt"
   ]
  },
  {
   "cell_type": "code",
   "execution_count": 2,
   "metadata": {},
   "outputs": [],
   "source": [
    "plt.style.use('dark_background')"
   ]
  },
  {
   "cell_type": "markdown",
   "metadata": {},
   "source": [
    "Download the [data](https://www.kaggle.com/c/nyc-taxi-trip-duration/datahttps://www.kaggle.com/c/nyc-taxi-trip-duration/data) into a folder named `kaggle` in your home directory."
   ]
  },
  {
   "cell_type": "code",
   "execution_count": 3,
   "metadata": {},
   "outputs": [],
   "source": [
    "load_path = os.path.expanduser(os.path.join(\"~\",\"kaggle\",\"nyc-taxi-trip-duration\",\"train.csv\"))"
   ]
  },
  {
   "cell_type": "markdown",
   "metadata": {},
   "source": [
    "Load the data into a Spark dataframe and map it to a SQL view named `v0`."
   ]
  },
  {
   "cell_type": "code",
   "execution_count": 4,
   "metadata": {},
   "outputs": [],
   "source": [
    "schema = \",\".join([\n",
    "    \"id string\",\n",
    "    \"vendor_id string\",\n",
    "    \"pickup_datetime timestamp\",\n",
    "    \"dropoff_datetime timestamp\",\n",
    "    \"passenger_count integer\",\n",
    "    \"pickup_longitude double\",\n",
    "    \"pickup_latitude double\",\n",
    "    \"dropoff_longitude double\",\n",
    "    \"dropoff_latitude double\",\n",
    "    \"store_and_fwd_flag string\",\n",
    "    \"trip_duration integer\"\n",
    "])\n",
    "\n",
    "df = spark\\\n",
    "    .read\\\n",
    "    .format(\"csv\")\\\n",
    "    .option(\"header\",True)\\\n",
    "    .option(\"parserLib\", \"univocity\")\\\n",
    "    .option(\"mode\", \"permissive\")\\\n",
    "    .schema(schema)\\\n",
    "    .load(load_path)\\\n",
    "    .drop(\"id\",\"vendor_id\",\"passenger_count\",\"store_and_fwd_flag\")\\\n",
    "    .selectExpr(\"*\",\"hour(pickup_datetime) pickup_hour\")\\\n",
    "    .cache()\n",
    "\n",
    "df.createOrReplaceTempView(\"v0\")"
   ]
  },
  {
   "cell_type": "markdown",
   "metadata": {},
   "source": [
    "Restrict the pickups and dropoffs to an area around Manhattan.\n",
    "\n",
    "![](media/NYC.png)"
   ]
  },
  {
   "cell_type": "code",
   "execution_count": 5,
   "metadata": {},
   "outputs": [],
   "source": [
    "lon_min,lat_min,lon_max,lat_max = (-75.08761590197491, 40.122033125848525, -72.33354542760787, 41.68167992377412)"
   ]
  },
  {
   "cell_type": "markdown",
   "metadata": {},
   "source": [
    "Accumulate the first digit of the trip duration field statistics and collect the result as a Pandas dataframe.\n",
    "\n",
    "Note here we are convering the `trip_duration` numerical value to a string value, in such that we can pick up the first digit as a character using `substr` function."
   ]
  },
  {
   "cell_type": "code",
   "execution_count": 6,
   "metadata": {},
   "outputs": [],
   "source": [
    "pdf = spark.sql(f\"\"\"\n",
    "select b,count(1) pop\n",
    "from(\n",
    "select substr(cast(trip_duration as string),0,1) b\n",
    "from v0\n",
    "where pickup_longitude between {lon_min} and {lon_max}\n",
    "and pickup_latitude between {lat_min} and {lat_max}\n",
    "and dropoff_longitude between {lon_min} and {lon_max}\n",
    "and dropoff_latitude between {lat_min} and {lat_max}\n",
    "and trip_duration > 0\n",
    ")\n",
    "group by b\n",
    "order by b\n",
    "\"\"\")\\\n",
    "    .toPandas()"
   ]
  },
  {
   "cell_type": "markdown",
   "metadata": {},
   "source": [
    "Add a percent pandas series."
   ]
  },
  {
   "cell_type": "code",
   "execution_count": 7,
   "metadata": {},
   "outputs": [],
   "source": [
    "pdf['pct'] = 100.0 * pdf['pop'] / pdf['pop'].sum()"
   ]
  },
  {
   "cell_type": "markdown",
   "metadata": {},
   "source": [
    "Compute the Benford values."
   ]
  },
  {
   "cell_type": "code",
   "execution_count": 8,
   "metadata": {},
   "outputs": [],
   "source": [
    "bf = 100.0 * np.log10(1.0+1.0/np.arange(1,10,1))"
   ]
  },
  {
   "cell_type": "markdown",
   "metadata": {},
   "source": [
    "Plot the occurence and the Benford curve."
   ]
  },
  {
   "cell_type": "code",
   "execution_count": 11,
   "metadata": {},
   "outputs": [
    {
     "data": {
      "image/png": "[encoded data removed]",
      "text/plain": [
       "<Figure size 1152x432 with 1 Axes>"
      ]
     },
     "metadata": {},
     "output_type": "display_data"
    }
   ],
   "source": [
    "plt.figure(figsize=(16,6))\n",
    "bar = plt.bar(pdf['b'],pdf['pct'], label='Percent of Occurence')\n",
    "plt.plot(pdf['b'], bf, 'r', label='Benford')\n",
    "plt.xlabel('First Digit of Trip Duration Field')\n",
    "# plt.xticks(rotation=90)\n",
    "plt.legend()\n",
    "plt.show()"
   ]
  },
  {
   "cell_type": "markdown",
   "metadata": {},
   "source": [
    "# MIND BLOWN !!!"
   ]
  },
  {
   "cell_type": "markdown",
   "metadata": {
    "pycharm": {
     "name": "#%% md\n"
    }
   },
   "source": [
    "**PS**: Could not sleep last nite is because my mind was rattled by what happened to my beloved Beirut. \"Paris of the Middle East\" did not need this in the middle of corona and an economic crisis.\n",
    "\n",
    "This article is dedicated to all that passed away and injured, specially my friend Dr. Georgie. Speedy recovery.\n",
    "\n",
    "\"I Love you ya Lubnan, Ya watani\" - Fairuz"
   ]
  }
 ],
 "metadata": {
  "kernelspec": {
   "display_name": "Python 3",
   "language": "python",
   "name": "python3"
  },
  "language_info": {
   "codemirror_mode": {
    "name": "ipython",
    "version": 3
   },
   "file_extension": ".py",
   "mimetype": "text/x-python",
   "name": "python",
   "nbconvert_exporter": "python",
   "pygments_lexer": "ipython3",
   "version": "3.7.8"
  }
 },
 "nbformat": 4,
 "nbformat_minor": 4
}

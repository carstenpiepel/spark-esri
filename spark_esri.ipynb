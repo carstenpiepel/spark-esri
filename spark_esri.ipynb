{
 "cells": [
  {
   "cell_type": "markdown",
   "metadata": {},
   "source": [
    "## ArcGIS Notebook to be demonstrate the usage of the built-in [Spark](https://spark.apache.org/) engine.\n",
    "\n",
    "\n",
    "This notebook will demonstrate the spatial binning of AIS data around the port of Miami using Apache Spark.\n",
    "\n",
    "The AIS broadcast data is in a FileGeodatabase that can be download from [here](https://marinecadastre.gov/ais).  \n",
    "\n",
    "Make sure to create a new conda environment and activate it before starting this notebook, as follows:\n",
    "\n",
    "- Start a `Python Command Prompt` from `Start > ArcGIS`.\n",
    "\n",
    "- Execute the following:\n",
    "\n",
    "```\n",
    "conda create --yes --name spark_esri --clone arcgispro-py3\n",
    "activate spark_esri\n",
    "# pip install spark_esri-0.1-py3-none-any.whl\n",
    "pip install pyarrow\n",
    "proswap spark_esri\n",
    "```\n",
    "\n",
    "- Install the Esri Spark module.\n",
    "\n",
    "```\n",
    "git clone https://github.com/mraad/spark-esri\n",
    "cd spark_esri\n",
    "python setup.py install\n",
    "```"
   ]
  },
  {
   "cell_type": "markdown",
   "metadata": {},
   "source": [
    "### Import the required modules."
   ]
  },
  {
   "cell_type": "code",
   "execution_count": null,
   "metadata": {},
   "outputs": [],
   "source": [
    "import os\n",
    "import arcpy\n",
    "from spark_esri import spark_start, spark_stop"
   ]
  },
  {
   "cell_type": "markdown",
   "metadata": {},
   "source": [
    "### Start a Spark instance.\n",
    "\n",
    "Note the `config` argument to [configure the Spark instance](https://spark.apache.org/docs/latest/configuration.html)."
   ]
  },
  {
   "cell_type": "code",
   "execution_count": null,
   "metadata": {},
   "outputs": [],
   "source": [
    "config = {\n",
    "    \"spark.driver.memory\":\"2G\",\n",
    "    \"spark.jars\": os.path.join(\"C:\",os.sep,\"bdt\",\"bdt.jar\"),\n",
    "    \"spark.submit.pyFiles\": os.path.join(\"C:\",os.sep,\"bdt\",\"bdt.egg\")\n",
    "}\n",
    "spark = spark_start(config=config)"
   ]
  },
  {
   "cell_type": "markdown",
   "metadata": {},
   "source": [
    "### Read the selected Broadcast feature shapes in WebMercator SR.\n",
    "\n",
    "It is assumed that you added to the map the `Broadcast` point feature class from the download `miami.gdb`.\n",
    "\n",
    "Note that the `SearchCursor` is subject to the user selected features, and to an active query definition in the layer properties. For Example, set the query definition to `Stauts = 0: Under way using engine` to get the location of all moving ships, in such that we get a \"heat map\" of the port movement."
   ]
  },
  {
   "cell_type": "code",
   "execution_count": null,
   "metadata": {},
   "outputs": [],
   "source": [
    "sp_ref = arcpy.SpatialReference(3857)\n",
    "data = arcpy.da.SearchCursor(\"Broadcast\",[\"SHAPE@X\",\"SHAPE@Y\"],spatial_reference=sp_ref)"
   ]
  },
  {
   "cell_type": "markdown",
   "metadata": {},
   "source": [
    "### Create a Spark data frame of the read data, and create a view named 'v0'."
   ]
  },
  {
   "cell_type": "code",
   "execution_count": null,
   "metadata": {},
   "outputs": [],
   "source": [
    "spark\\\n",
    "    .createDataFrame(data,\"x double,y double\")\\\n",
    "    .createOrReplaceTempView(\"v0\")"
   ]
  },
  {
   "cell_type": "markdown",
   "metadata": {},
   "source": [
    "### Aggregate the data at 200x200 meters bins.\n",
    "\n",
    "The aggregation is performed by Spark as a SQL statement in a parallel share-nothing way and the resulting bins are collected back in the `rows` array variable.\n",
    "\n",
    "This is a nested SQL expression, where the inner expression is mapping the input `x` and `y` into `q` and `r` cell locations given a user defined bin size, and the outter expression is aggreating as a sum the `q` and `r` pairs. Finally, `q` and `r` are mapped back to `x` and `y` to enble the placement on a map. "
   ]
  },
  {
   "cell_type": "code",
   "execution_count": null,
   "metadata": {},
   "outputs": [],
   "source": [
    "cell0 = 200.0 # meters\n",
    "cell1 = cell0 * 0.5\n",
    "\n",
    "rows = spark\\\n",
    "    .sql(f\"\"\"\n",
    "select q*{cell0}+{cell1} x,r*{cell0}+{cell1} y,least(count(1),1000) as pop\n",
    "from\n",
    "(select cast(x/{cell0} as long) q,cast(y/{cell0} as long) r from v0)\n",
    "group by q,r\n",
    "\"\"\")\\\n",
    "    .collect()"
   ]
  },
  {
   "cell_type": "markdown",
   "metadata": {},
   "source": [
    "### Create an in-memory point feature class of the collected bins.\n",
    "\n",
    "The variable `rows` is an array of form `[[x0,y0,pop0],[x1,y1,pop1],...,[xN,yN,popN]]`."
   ]
  },
  {
   "cell_type": "code",
   "execution_count": null,
   "metadata": {},
   "outputs": [],
   "source": [
    "ws = \"memory\"\n",
    "nm = \"Bins\"\n",
    "\n",
    "fc = os.path.join(ws,nm)\n",
    "\n",
    "arcpy.management.Delete(fc)\n",
    "\n",
    "sp_ref = arcpy.SpatialReference(3857)\n",
    "arcpy.management.CreateFeatureclass(ws,nm,\"POINT\",spatial_reference=sp_ref)\n",
    "arcpy.management.AddField(fc, \"POP\", \"LONG\")\n",
    "\n",
    "with arcpy.da.InsertCursor(fc, [\"SHAPE@X\",\"SHAPE@Y\", \"POP\"]) as cursor:\n",
    "    for row in rows:\n",
    "        cursor.insertRow(row)"
   ]
  },
  {
   "cell_type": "markdown",
   "metadata": {},
   "source": [
    "### Apply a graduated colors symbology to highlight the bins."
   ]
  },
  {
   "cell_type": "code",
   "execution_count": null,
   "metadata": {},
   "outputs": [],
   "source": [
    "_ = arcpy.ApplySymbologyFromLayer_management(fc, f\"{nm}.lyrx\")"
   ]
  },
  {
   "cell_type": "markdown",
   "metadata": {},
   "source": [
    "### Stop the spark instance."
   ]
  },
  {
   "cell_type": "code",
   "execution_count": null,
   "metadata": {},
   "outputs": [],
   "source": [
    "spark_stop()"
   ]
  }
 ],
 "metadata": {
  "kernelspec": {
   "display_name": "ArcGISPro",
   "language": "Python",
   "name": "python3"
  },
  "language_info": {
   "file_extension": ".py",
   "name": "python",
   "version": "3"
  }
 },
 "nbformat": 4,
 "nbformat_minor": 4
}
